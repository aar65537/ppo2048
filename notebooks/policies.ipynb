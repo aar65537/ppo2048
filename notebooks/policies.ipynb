{
 "cells": [
  {
   "cell_type": "code",
   "execution_count": 1,
   "metadata": {},
   "outputs": [],
   "source": [
    "import sys\n",
    "sys.path.append('/workspaces/ppo2048')\n",
    "import jax\n",
    "import jax.numpy as jnp\n",
    "from ppo2048.policies import RandomPolicy, NaivePolicy, Policy, NetworkPolicy\n",
    "from jumanji.wrappers import VmapWrapper, AutoResetWrapper\n",
    "from jumanji.environments.logic.game_2048.env import Game2048\n",
    "from ppo2048.networks import Networks\n",
    "from ppo2048.test_policies import policy_check"
   ]
  },
  {
   "cell_type": "code",
   "execution_count": 2,
   "metadata": {},
   "outputs": [],
   "source": [
    "SEED = 0\n",
    "SIZE = 4\n",
    "PLAY_BATCH_SIZE = 2\n",
    "PLAY_STEPS_PER_EPOCH = 5\n",
    "key = jax.random.PRNGKey(SEED)\n",
    "env = VmapWrapper(AutoResetWrapper(Game2048(SIZE)))\n",
    "key, subkey = jax.random.split(key)\n",
    "subkeys = jax.random.split(subkey, PLAY_BATCH_SIZE)\n",
    "init_state, _ = env.reset(jnp.array(subkeys))"
   ]
  },
  {
   "cell_type": "code",
   "execution_count": 19,
   "metadata": {},
   "outputs": [],
   "source": [
    "networks = Networks.make((16, 8), 32, True)\n",
    "policy = NetworkPolicy(networks)\n",
    "key, subkey = jax.random.split(key)\n",
    "params = networks.init(subkey)\n",
    "key, subkey = jax.random.split(key)"
   ]
  },
  {
   "cell_type": "code",
   "execution_count": 20,
   "metadata": {},
   "outputs": [
    {
     "name": "stdout",
     "output_type": "stream",
     "text": [
      "compiling rollout\n"
     ]
    },
    {
     "ename": "TypeError",
     "evalue": "Shapes must be 1D sequences of concrete values of integer type, got (Traced<ShapedArray(int32[], weak_type=True)>with<DynamicJaxprTrace(level=1/0)>,).\nIf using `jit`, try using `static_argnums` or applying `jit` to smaller subfunctions.\nThe error occurred while tracing the function rollout at /workspaces/ml-experiments-2048/src/policies.py:28 for jit. This concrete value was not available in Python because it depends on the value of the argument init_state.",
     "output_type": "error",
     "traceback": [
      "\u001b[0;31m---------------------------------------------------------------------------\u001b[0m",
      "\u001b[0;31mTypeError\u001b[0m                                 Traceback (most recent call last)",
      "Cell \u001b[0;32mIn[20], line 1\u001b[0m\n\u001b[0;32m----> 1\u001b[0m policy_check(key, policy, params)\n\u001b[1;32m      2\u001b[0m policy_check(key, policy, params)\n",
      "Cell \u001b[0;32mIn[18], line 3\u001b[0m, in \u001b[0;36mpolicy_check\u001b[0;34m(key, policy, params)\u001b[0m\n\u001b[1;32m      1\u001b[0m \u001b[39mdef\u001b[39;00m \u001b[39mpolicy_check\u001b[39m(key, policy: Policy, params):\n\u001b[1;32m      2\u001b[0m     rollout_fn \u001b[39m=\u001b[39m jax\u001b[39m.\u001b[39mjit(policy\u001b[39m.\u001b[39mrollout, static_argnums\u001b[39m=\u001b[39m(\u001b[39m1\u001b[39m))\n\u001b[0;32m----> 3\u001b[0m     state, rollout \u001b[39m=\u001b[39m rollout_fn(key, env, init_state, PLAY_STEPS_PER_EPOCH, params)\n\u001b[1;32m      4\u001b[0m     \u001b[39mprint\u001b[39m(rollout\u001b[39m.\u001b[39maction)\n",
      "    \u001b[0;31m[... skipping hidden 12 frame]\u001b[0m\n",
      "File \u001b[0;32m/workspaces/ml-experiments-2048/src/policies.py:55\u001b[0m, in \u001b[0;36mPolicy.rollout\u001b[0;34m(self, key, env, init_state, n_steps, *args, **kwargs)\u001b[0m\n\u001b[1;32m     44\u001b[0m     transition \u001b[39m=\u001b[39m Transition(\n\u001b[1;32m     45\u001b[0m         observation,\n\u001b[1;32m     46\u001b[0m         action,\n\u001b[0;32m   (...)\u001b[0m\n\u001b[1;32m     51\u001b[0m         jnp\u001b[39m.\u001b[39mzeros_like(value),\n\u001b[1;32m     52\u001b[0m     )\n\u001b[1;32m     53\u001b[0m     \u001b[39mreturn\u001b[39;00m state, transition\n\u001b[0;32m---> 55\u001b[0m keys \u001b[39m=\u001b[39m jax\u001b[39m.\u001b[39;49mrandom\u001b[39m.\u001b[39;49msplit(key, n_steps)\n\u001b[1;32m     56\u001b[0m \u001b[39mreturn\u001b[39;00m jax\u001b[39m.\u001b[39mlax\u001b[39m.\u001b[39mscan(step, init_state, keys)\n",
      "File \u001b[0;32m/usr/local/lib/python3.11/dist-packages/jax/_src/random.py:217\u001b[0m, in \u001b[0;36msplit\u001b[0;34m(key, num)\u001b[0m\n\u001b[1;32m    206\u001b[0m \u001b[39m\u001b[39m\u001b[39m\"\"\"Splits a PRNG key into `num` new keys by adding a leading axis.\u001b[39;00m\n\u001b[1;32m    207\u001b[0m \n\u001b[1;32m    208\u001b[0m \u001b[39mArgs:\u001b[39;00m\n\u001b[0;32m   (...)\u001b[0m\n\u001b[1;32m    214\u001b[0m \u001b[39m  An array-like object of `num` new PRNG keys.\u001b[39;00m\n\u001b[1;32m    215\u001b[0m \u001b[39m\"\"\"\u001b[39;00m\n\u001b[1;32m    216\u001b[0m key, wrapped \u001b[39m=\u001b[39m _check_prng_key(key)\n\u001b[0;32m--> 217\u001b[0m \u001b[39mreturn\u001b[39;00m _return_prng_keys(wrapped, _split(key, num))\n",
      "File \u001b[0;32m/usr/local/lib/python3.11/dist-packages/jax/_src/random.py:203\u001b[0m, in \u001b[0;36m_split\u001b[0;34m(key, num)\u001b[0m\n\u001b[1;32m    200\u001b[0m \u001b[39mif\u001b[39;00m key\u001b[39m.\u001b[39mndim:\n\u001b[1;32m    201\u001b[0m   \u001b[39mraise\u001b[39;00m \u001b[39mTypeError\u001b[39;00m(\u001b[39m\"\u001b[39m\u001b[39msplit accepts a single key, but was given a key array of\u001b[39m\u001b[39m\"\u001b[39m\n\u001b[1;32m    202\u001b[0m                   \u001b[39mf\u001b[39m\u001b[39m\"\u001b[39m\u001b[39mshape \u001b[39m\u001b[39m{\u001b[39;00mkey\u001b[39m.\u001b[39mshape\u001b[39m}\u001b[39;00m\u001b[39m != (). Use jax.vmap for batching.\u001b[39m\u001b[39m\"\u001b[39m)\n\u001b[0;32m--> 203\u001b[0m \u001b[39mreturn\u001b[39;00m prng\u001b[39m.\u001b[39;49mrandom_split(key, count\u001b[39m=\u001b[39;49mnum)\n",
      "File \u001b[0;32m/usr/local/lib/python3.11/dist-packages/jax/_src/prng.py:592\u001b[0m, in \u001b[0;36mrandom_split\u001b[0;34m(keys, count)\u001b[0m\n\u001b[1;32m    591\u001b[0m \u001b[39mdef\u001b[39;00m \u001b[39mrandom_split\u001b[39m(keys, count):\n\u001b[0;32m--> 592\u001b[0m   \u001b[39mreturn\u001b[39;00m random_split_p\u001b[39m.\u001b[39;49mbind(keys, count\u001b[39m=\u001b[39;49mcount)\n",
      "    \u001b[0;31m[... skipping hidden 5 frame]\u001b[0m\n",
      "File \u001b[0;32m/usr/local/lib/python3.11/dist-packages/jax/_src/prng.py:600\u001b[0m, in \u001b[0;36mrandom_split_abstract_eval\u001b[0;34m(keys_aval, count)\u001b[0m\n\u001b[1;32m    598\u001b[0m \u001b[39m@random_split_p\u001b[39m\u001b[39m.\u001b[39mdef_abstract_eval\n\u001b[1;32m    599\u001b[0m \u001b[39mdef\u001b[39;00m \u001b[39mrandom_split_abstract_eval\u001b[39m(keys_aval, \u001b[39m*\u001b[39m, count):\n\u001b[0;32m--> 600\u001b[0m   \u001b[39mreturn\u001b[39;00m keys_shaped_array(keys_aval\u001b[39m.\u001b[39;49mdtype\u001b[39m.\u001b[39;49mimpl, (\u001b[39m*\u001b[39;49mkeys_aval\u001b[39m.\u001b[39;49mshape, count))\n",
      "File \u001b[0;32m/usr/local/lib/python3.11/dist-packages/jax/_src/prng.py:274\u001b[0m, in \u001b[0;36mkeys_shaped_array\u001b[0;34m(impl, shape)\u001b[0m\n\u001b[1;32m    273\u001b[0m \u001b[39mdef\u001b[39;00m \u001b[39mkeys_shaped_array\u001b[39m(impl, shape):\n\u001b[0;32m--> 274\u001b[0m   \u001b[39mreturn\u001b[39;00m core\u001b[39m.\u001b[39;49mShapedArray(shape, KeyTy(impl))\n",
      "    \u001b[0;31m[... skipping hidden 1 frame]\u001b[0m\n",
      "File \u001b[0;32m/usr/local/lib/python3.11/dist-packages/jax/_src/core.py:2039\u001b[0m, in \u001b[0;36mcanonicalize_shape\u001b[0;34m(shape, context)\u001b[0m\n\u001b[1;32m   2037\u001b[0m \u001b[39mexcept\u001b[39;00m \u001b[39mTypeError\u001b[39;00m:\n\u001b[1;32m   2038\u001b[0m   \u001b[39mpass\u001b[39;00m\n\u001b[0;32m-> 2039\u001b[0m \u001b[39mraise\u001b[39;00m _invalid_shape_error(shape, context)\n",
      "\u001b[0;31mTypeError\u001b[0m: Shapes must be 1D sequences of concrete values of integer type, got (Traced<ShapedArray(int32[], weak_type=True)>with<DynamicJaxprTrace(level=1/0)>,).\nIf using `jit`, try using `static_argnums` or applying `jit` to smaller subfunctions.\nThe error occurred while tracing the function rollout at /workspaces/ml-experiments-2048/src/policies.py:28 for jit. This concrete value was not available in Python because it depends on the value of the argument init_state."
     ]
    }
   ],
   "source": [
    "policy_check(key, policy, params)\n",
    "policy_check(key, policy, params)"
   ]
  },
  {
   "cell_type": "code",
   "execution_count": null,
   "metadata": {},
   "outputs": [],
   "source": []
  }
 ],
 "metadata": {
  "kernelspec": {
   "display_name": "Python 3",
   "language": "python",
   "name": "python3"
  },
  "language_info": {
   "codemirror_mode": {
    "name": "ipython",
    "version": 3
   },
   "file_extension": ".py",
   "mimetype": "text/x-python",
   "name": "python",
   "nbconvert_exporter": "python",
   "pygments_lexer": "ipython3",
   "version": "3.11.3"
  },
  "orig_nbformat": 4
 },
 "nbformat": 4,
 "nbformat_minor": 2
}
