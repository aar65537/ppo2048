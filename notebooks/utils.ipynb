{
 "cells": [
  {
   "cell_type": "code",
   "execution_count": 1,
   "metadata": {},
   "outputs": [],
   "source": [
    "import chex\n",
    "import jax\n",
    "import jax.numpy as jnp\n",
    "from jumanji.environments.logic.game_2048.env import Game2048\n",
    "from jumanji.environments.logic.game_2048.types import Board\n",
    "from jumanji.environments.logic.game_2048.utils import move_up, move_right, move_down, move_left"
   ]
  },
  {
   "cell_type": "code",
   "execution_count": 2,
   "metadata": {},
   "outputs": [],
   "source": [
    "SEED = 0\n",
    "SIZE = 4\n",
    "key = jax.random.PRNGKey(SEED)\n",
    "env = Game2048(SIZE)\n",
    "state, timestep = env.reset(key)"
   ]
  },
  {
   "cell_type": "code",
   "execution_count": 3,
   "metadata": {},
   "outputs": [],
   "source": [
    "def transform_board(board: Board, symmetry: int, axis: 0 | 1 = 0) -> Board:\n",
    "    if abs(symmetry) >= 8:\n",
    "        raise ValueError\n",
    "    if axis != 0 and axis != 1:\n",
    "        raise ValueError\n",
    "    board = jnp.flip(board, axis) if symmetry >= 4 else board\n",
    "    board = jnp.rot90(board, symmetry)\n",
    "    board = jnp.flip(board, axis) if symmetry <= -4 else board\n",
    "    return board"
   ]
  },
  {
   "cell_type": "code",
   "execution_count": 4,
   "metadata": {},
   "outputs": [],
   "source": [
    "assert all((state.board == transform_board(transform_board(state.board, symmetry), -symmetry)).all() for symmetry in range(8))"
   ]
  },
  {
   "cell_type": "code",
   "execution_count": 5,
   "metadata": {},
   "outputs": [],
   "source": [
    "def transform_actions(actions: chex.Array, symmetry: int, axis: 0 | 1 = 0) -> chex.Array:\n",
    "    if abs(symmetry) >= 8:\n",
    "        raise ValueError\n",
    "    if axis != 0 and axis != 1:\n",
    "        raise ValueError\n",
    "    mask1 = jnp.array((axis, axis + 2))\n",
    "    mask2 = jnp.array((axis + 2, axis))\n",
    "    actions = actions.at[mask1].set(actions[mask2]) if symmetry <= -4 else actions\n",
    "    actions = actions[(jnp.arange(4) - symmetry) % 4]\n",
    "    actions = actions.at[mask1].set(actions[mask2]) if symmetry >= 4 else actions\n",
    "    return actions"
   ]
  },
  {
   "cell_type": "code",
   "execution_count": 6,
   "metadata": {},
   "outputs": [],
   "source": [
    "actions = jnp.arange(4)\n",
    "assert all((actions == transform_actions(transform_actions(actions, symmetry, 0), -symmetry, 0)).all() for symmetry in range(8))\n",
    "assert all((actions == transform_actions(transform_actions(actions, symmetry, 1), -symmetry, 1)).all() for symmetry in range(8))"
   ]
  },
  {
   "cell_type": "code",
   "execution_count": 16,
   "metadata": {},
   "outputs": [
    {
     "name": "stdout",
     "output_type": "stream",
     "text": [
      "[1. 0. 0. 0.]\n",
      "[0. 1. 0. 0.]\n",
      "[0. 0. 1. 0.]\n",
      "[0. 0. 0. 1.]\n",
      "[0. 0. 1. 0.]\n",
      "[0. 1. 0. 0.]\n",
      "[1. 0. 0. 0.]\n",
      "[0. 0. 0. 1.]\n"
     ]
    }
   ],
   "source": [
    "jit_transform_actions = jax.jit(transform_actions, static_argnums=(1, 2))\n",
    "actions = jnp.zeros(4).at[0].set(1)\n",
    "for symmetry in range(8):\n",
    "    print(jit_transform_actions(actions, symmetry))"
   ]
  },
  {
   "cell_type": "code",
   "execution_count": null,
   "metadata": {},
   "outputs": [],
   "source": []
  }
 ],
 "metadata": {
  "kernelspec": {
   "display_name": "Python 3",
   "language": "python",
   "name": "python3"
  },
  "language_info": {
   "codemirror_mode": {
    "name": "ipython",
    "version": 3
   },
   "file_extension": ".py",
   "mimetype": "text/x-python",
   "name": "python",
   "nbconvert_exporter": "python",
   "pygments_lexer": "ipython3",
   "version": "3.11.3"
  },
  "orig_nbformat": 4
 },
 "nbformat": 4,
 "nbformat_minor": 2
}
