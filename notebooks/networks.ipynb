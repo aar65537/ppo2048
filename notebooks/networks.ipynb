{
 "cells": [
  {
   "cell_type": "code",
   "execution_count": 1,
   "metadata": {},
   "outputs": [],
   "source": [
    "import sys\n",
    "sys.path.append('/workspaces/ppo2048')\n",
    "import jax\n",
    "import jax.numpy as jnp\n",
    "from jumanji.environments.logic.game_2048.env import Game2048\n",
    "from ppo2048.networks import Networks"
   ]
  },
  {
   "cell_type": "code",
   "execution_count": 2,
   "metadata": {},
   "outputs": [],
   "source": [
    "SEED = 0\n",
    "SIZE = 4\n",
    "BATCH_SIZE = 2"
   ]
  },
  {
   "cell_type": "code",
   "execution_count": 3,
   "metadata": {},
   "outputs": [],
   "source": [
    "key = jax.random.PRNGKey(SEED)\n",
    "env = Game2048(SIZE)"
   ]
  },
  {
   "cell_type": "code",
   "execution_count": 4,
   "metadata": {},
   "outputs": [],
   "source": [
    "key, subkey = jax.random.split(key)\n",
    "subkey = jax.random.split(subkey, BATCH_SIZE)\n",
    "state, timestep = jax.vmap(env.reset)(subkey)\n",
    "# state, timestep = env.reset(subkey)"
   ]
  },
  {
   "cell_type": "code",
   "execution_count": 5,
   "metadata": {},
   "outputs": [
    {
     "data": {
      "text/plain": [
       "(Array([[1.1098546,       inf, 1.1028546, 1.0833172],\n",
       "        [1.4003812, 1.3691201, 1.4001706, 1.3759027]], dtype=float32),\n",
       " Array([0.0057175 , 0.01414741], dtype=float32))"
      ]
     },
     "execution_count": 5,
     "metadata": {},
     "output_type": "execute_result"
    }
   ],
   "source": [
    "networks = Networks.make((16, 8), 32, False)\n",
    "key, subkey = jax.random.split(key)\n",
    "params = networks.init(subkey)\n",
    "networks.apply(params, timestep.observation)"
   ]
  },
  {
   "cell_type": "code",
   "execution_count": 11,
   "metadata": {},
   "outputs": [
    {
     "data": {
      "text/plain": [
       "(Array([[1.1178035,       inf, 1.0719049, 1.106704 ],\n",
       "        [1.4046719, 1.3995982, 1.3531698, 1.3885505]], dtype=float32),\n",
       " Array([-0.00289111, -0.00152159], dtype=float32))"
      ]
     },
     "execution_count": 11,
     "metadata": {},
     "output_type": "execute_result"
    }
   ],
   "source": [
    "networks = Networks.make((16, 8), 32, True)\n",
    "key, subkey = jax.random.split(key)\n",
    "params = networks.init(subkey)\n",
    "neglogprobs, value = networks.apply(params, timestep.observation)\n",
    "neglogprobs, value"
   ]
  },
  {
   "cell_type": "code",
   "execution_count": null,
   "metadata": {},
   "outputs": [],
   "source": []
  }
 ],
 "metadata": {
  "kernelspec": {
   "display_name": "Python 3",
   "language": "python",
   "name": "python3"
  },
  "language_info": {
   "codemirror_mode": {
    "name": "ipython",
    "version": 3
   },
   "file_extension": ".py",
   "mimetype": "text/x-python",
   "name": "python",
   "nbconvert_exporter": "python",
   "pygments_lexer": "ipython3",
   "version": "3.11.3"
  },
  "orig_nbformat": 4
 },
 "nbformat": 4,
 "nbformat_minor": 2
}
